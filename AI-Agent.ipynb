{
 "cells": [
  {
   "cell_type": "code",
   "execution_count": 235,
   "id": "dc748220",
   "metadata": {},
   "outputs": [],
   "source": [
    "from crewai import Agent, Task, Crew"
   ]
  },
  {
   "cell_type": "code",
   "execution_count": 236,
   "id": "68dd2bf5",
   "metadata": {},
   "outputs": [],
   "source": [
    "agent_1 = Agent(\n",
    "    role=\"HTML input and textarea tag ID extractor\",\n",
    "    goal=\"Extract input and textarea tag ID attributes from HTML code.\",\n",
    "    backstory=\"Specialized in parsing HTML to identify and extract input and textarea tag IDs efficiently.\"\n",
    ")"
   ]
  },
  {
   "cell_type": "code",
   "execution_count": 237,
   "id": "e3e0bf78",
   "metadata": {},
   "outputs": [],
   "source": [
    "from pydantic import BaseModel\n",
    "\n",
    "class FormAttributes(BaseModel):\n",
    "    firstName:str\n",
    "    middleName:str\n",
    "    lastName:str\n",
    "    streetAddress:str\n",
    "    streetAddress2:str\n",
    "    city:str\n",
    "    state:str\n",
    "    postal:str\n",
    "    email:str\n",
    "    phoneNumber:str\n",
    "    linkedIn:str\n",
    "    writeSomeThingAboutLLM:str\n",
    "    writeSomeThingAboutWebAutomation:str\n",
    "    reversedLinkedList:str\n",
    "    coverLetter:str"
   ]
  },
  {
   "cell_type": "code",
   "execution_count": 238,
   "id": "234783a2",
   "metadata": {},
   "outputs": [],
   "source": [
    "task_1 = Task(\n",
    "    description=\"You are given HTML code {source_code}. Your task is to find the `id` attribute values of all input and textarea tags in the HTML code, considering the tag name value to match with the correct entity.\",\n",
    "    expected_output=\"A dictionary where keys are tag names and values are lists of input and textarea tag `id` attribute values extracted from the HTML code.\",\n",
    "    human_input=False,\n",
    "    output_json=FormAttributes,\n",
    "    output_file=\"form_attributes.json\",\n",
    "    agent=agent_1\n",
    ")"
   ]
  },
  {
   "cell_type": "code",
   "execution_count": 239,
   "id": "ac98a07e",
   "metadata": {},
   "outputs": [
    {
     "name": "stderr",
     "output_type": "stream",
     "text": [
      "2024-06-11 10:11:58,306 - 2324 - __init__.py-__init__:518 - WARNING: Overriding of current TracerProvider is not allowed\n"
     ]
    }
   ],
   "source": [
    "event = Crew(\n",
    "    agents=[agent_1],\n",
    "    tasks=[task_1],\n",
    "    verbos=True\n",
    ")"
   ]
  },
  {
   "cell_type": "code",
   "execution_count": 240,
   "id": "79d01e1a",
   "metadata": {},
   "outputs": [],
   "source": [
    "from urllib import request\n",
    "from bs4 import BeautifulSoup\n",
    "\n",
    "\n",
    "url_1 = \"https://form.jotform.com/241617189501153\"\n",
    "page = request.urlopen(url_1)\n",
    "soup = BeautifulSoup(page)\n",
    "source_code = soup.prettify()"
   ]
  },
  {
   "cell_type": "code",
   "execution_count": 241,
   "id": "639eca4b",
   "metadata": {},
   "outputs": [],
   "source": [
    "data = {\n",
    "    'source_code':source_code,\n",
    "    'labels':Entity\n",
    "}"
   ]
  },
  {
   "cell_type": "code",
   "execution_count": 242,
   "id": "0ded9e73",
   "metadata": {},
   "outputs": [],
   "source": [
    "res = event.kickoff(inputs=data)"
   ]
  },
  {
   "cell_type": "code",
   "execution_count": 243,
   "id": "b577b0d8",
   "metadata": {},
   "outputs": [
    {
     "data": {
      "text/plain": [
       "'{\\n  \"firstName\": \"first_11\",\\n  \"middleName\": \"middle_11\",\\n  \"lastName\": \"last_11\",\\n  \"streetAddress\": \"input_16_addr_line1\",\\n  \"streetAddress2\": \"input_16_addr_line2\",\\n  \"city\": \"input_16_city\",\\n  \"state\": \"input_16_state\",\\n  \"postal\": \"input_16_postal\",\\n  \"email\": \"input_19\",\\n  \"phoneNumber\": \"input_23\",\\n  \"linkedIn\": \"input_24\",\\n  \"writeSomeThingAboutLLM\": \"input_25\",\\n  \"writeSomeThingAboutWebAutomation\": \"input_17\",\\n  \"reversedLinkedList\": \"input_9\",\\n  \"coverLetter\": \"simple_spc\"\\n}'"
      ]
     },
     "execution_count": 243,
     "metadata": {},
     "output_type": "execute_result"
    }
   ],
   "source": [
    "res"
   ]
  },
  {
   "cell_type": "code",
   "execution_count": 244,
   "id": "dfcad059",
   "metadata": {},
   "outputs": [],
   "source": [
    "import json\n",
    "\n",
    "data = json.load(open('form_attributes.json'))"
   ]
  },
  {
   "cell_type": "code",
   "execution_count": 245,
   "id": "147f4a6e",
   "metadata": {},
   "outputs": [],
   "source": [
    "values = {\n",
    "    \"firstName\": \"Rohit\",\n",
    "    \"middleName\": \"Kumar\",\n",
    "    \"lastName\": \"Singh\",\n",
    "    \"streetAddress\": \"vikash nagar road no 9\",\n",
    "    \"streetAddress2\": \"singh more\",\n",
    "    \"city\": \"Ranchi\",\n",
    "    \"state\": \"Jharkhand\",\n",
    "    \"postal\": \"834003\",\n",
    "    \"email\": \"rohitcode005@gmail.com\",\n",
    "    \"phoneNumber\": \"+9798494187\",\n",
    "    \"linkedIn\": \"https://www.linkedin.com/in/rohit-kumar-66522518a/\",\n",
    "    \"writeSomeThingAboutLLM\": \"LLMs are advanced AI models that can generate human-like text based on input data.\",\n",
    "    \"writeSomeThingAboutWebAutomation\": \"Web automation involves using software to perform tasks on the web automatically.\",\n",
    "    \"reversedLinkedList\":\"This function takes the head of a linked list as input and returns the new head of the reversed linked list. It iterates through the linked list, changing the direction of pointers to reverse the list. Finally, it returns the new head of the reversed list.\",\n",
    "    \"coverLetter\": \"Dear Hiring Manager, I am excited to apply for the position at your esteemed company. My skills and experience align perfectly with the requirements of this role.\"\n",
    "}\n"
   ]
  },
  {
   "cell_type": "code",
   "execution_count": 246,
   "id": "be7ebbfe",
   "metadata": {},
   "outputs": [],
   "source": [
    "from selenium import webdriver\n",
    "from selenium.webdriver.common.by import By\n",
    "\n",
    "driver = webdriver.Firefox()\n",
    "\n",
    "try:\n",
    "    # Open the target URL\n",
    "    driver.get(\"https://form.jotform.com/241617189501153\")\n",
    "\n",
    "    for key in data.keys():\n",
    "        input_box = driver.find_element(By.ID, data[key])\n",
    "        input_box.send_keys(values[key])\n",
    "except:\n",
    "    pass\n",
    "#     driver.quit()"
   ]
  },
  {
   "cell_type": "code",
   "execution_count": null,
   "id": "659e38c9",
   "metadata": {},
   "outputs": [],
   "source": []
  },
  {
   "cell_type": "code",
   "execution_count": null,
   "id": "1d6c5e9b",
   "metadata": {},
   "outputs": [],
   "source": []
  }
 ],
 "metadata": {
  "kernelspec": {
   "display_name": "Python 3 (ipykernel)",
   "language": "python",
   "name": "python3"
  },
  "language_info": {
   "codemirror_mode": {
    "name": "ipython",
    "version": 3
   },
   "file_extension": ".py",
   "mimetype": "text/x-python",
   "name": "python",
   "nbconvert_exporter": "python",
   "pygments_lexer": "ipython3",
   "version": "3.11.5"
  }
 },
 "nbformat": 4,
 "nbformat_minor": 5
}
